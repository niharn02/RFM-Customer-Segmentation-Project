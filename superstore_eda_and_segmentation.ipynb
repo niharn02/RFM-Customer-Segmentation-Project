{
 "cells": [
  {
   "cell_type": "markdown",
   "id": "0a180dd4",
   "metadata": {},
   "source": [
    "# Superstore EDA and RFM Segmentation with K-Means\n",
    "\n",
    "This notebook walks through the step-by-step process of performing **RFM (Recency, Frequency, Monetary)** analysis and applying **K-Means clustering** to group customers based on their purchasing behaviour.\n",
    "\n",
    "The goal is to identify customer segments to support marketing and business strategies.\n",
    "\n",
    "---\n",
    "\n",
    "### Analysis Performed in This Project:\n",
    "1. Loaded and merged customer, order, and transaction data  \n",
    "2. Calculated RFM values for each customer  \n",
    "3. Normalized features and applied K-Means clustering  \n",
    "4. Assigned customers to segments and visualised the results  \n",
    "5. Exported the final dataset for reporting or dashboard use\n",
    "\n",
    "Use this notebook to explore how unsupervised learning can unlock business value from transactional data."
   ]
  },
  {
   "cell_type": "code",
   "execution_count": 1,
   "id": "ab3400ec",
   "metadata": {},
   "outputs": [],
   "source": [
    "from sklearn.preprocessing import StandardScaler\n",
    "from sklearn.cluster import KMeans\n",
    "import seaborn as sns\n",
    "import matplotlib.pyplot as plt"
   ]
  },
  {
   "cell_type": "markdown",
   "id": "150238c5",
   "metadata": {},
   "source": [
    "### Step 1: Load and Merge Raw Data\n",
    "\n",
    "We begin by loading the four CSV files: `customers`, `products`, `orders`, and `order_details`.  \n",
    "Then we merge them to get a single dataset that includes order dates, sales values, and customer IDs."
   ]
  },
  {
   "cell_type": "code",
   "execution_count": 2,
   "id": "a146b4c2",
   "metadata": {
    "scrolled": true
   },
   "outputs": [
    {
     "data": {
      "text/html": [
       "<div>\n",
       "<style scoped>\n",
       "    .dataframe tbody tr th:only-of-type {\n",
       "        vertical-align: middle;\n",
       "    }\n",
       "\n",
       "    .dataframe tbody tr th {\n",
       "        vertical-align: top;\n",
       "    }\n",
       "\n",
       "    .dataframe thead th {\n",
       "        text-align: right;\n",
       "    }\n",
       "</style>\n",
       "<table border=\"1\" class=\"dataframe\">\n",
       "  <thead>\n",
       "    <tr style=\"text-align: right;\">\n",
       "      <th></th>\n",
       "      <th>Order ID</th>\n",
       "      <th>Order Date</th>\n",
       "      <th>Ship Date</th>\n",
       "      <th>Ship Mode</th>\n",
       "      <th>Customer ID</th>\n",
       "      <th>Product ID</th>\n",
       "      <th>Sales</th>\n",
       "      <th>Quantity</th>\n",
       "      <th>Discount</th>\n",
       "      <th>Profit</th>\n",
       "      <th>Customer Name</th>\n",
       "      <th>Segment</th>\n",
       "      <th>Country</th>\n",
       "      <th>Region</th>\n",
       "    </tr>\n",
       "  </thead>\n",
       "  <tbody>\n",
       "    <tr>\n",
       "      <th>0</th>\n",
       "      <td>CA-2016-152156</td>\n",
       "      <td>11-08-2016</td>\n",
       "      <td>11-11-2016</td>\n",
       "      <td>Second Class</td>\n",
       "      <td>CG-12520</td>\n",
       "      <td>FUR-BO-10001798</td>\n",
       "      <td>261.96</td>\n",
       "      <td>2.0</td>\n",
       "      <td>0.0</td>\n",
       "      <td>41.91</td>\n",
       "      <td>Claire Gute</td>\n",
       "      <td>Consumer</td>\n",
       "      <td>United States</td>\n",
       "      <td>South</td>\n",
       "    </tr>\n",
       "    <tr>\n",
       "      <th>1</th>\n",
       "      <td>CA-2016-152156</td>\n",
       "      <td>11-08-2016</td>\n",
       "      <td>11-11-2016</td>\n",
       "      <td>Second Class</td>\n",
       "      <td>CG-12520</td>\n",
       "      <td>FUR-BO-10001798</td>\n",
       "      <td>261.96</td>\n",
       "      <td>2.0</td>\n",
       "      <td>0.0</td>\n",
       "      <td>41.91</td>\n",
       "      <td>Claire Gute</td>\n",
       "      <td>Consumer</td>\n",
       "      <td>United States</td>\n",
       "      <td>Central</td>\n",
       "    </tr>\n",
       "    <tr>\n",
       "      <th>2</th>\n",
       "      <td>CA-2016-152156</td>\n",
       "      <td>11-08-2016</td>\n",
       "      <td>11-11-2016</td>\n",
       "      <td>Second Class</td>\n",
       "      <td>CG-12520</td>\n",
       "      <td>FUR-CH-10000454</td>\n",
       "      <td>731.94</td>\n",
       "      <td>3.0</td>\n",
       "      <td>0.0</td>\n",
       "      <td>219.58</td>\n",
       "      <td>Claire Gute</td>\n",
       "      <td>Consumer</td>\n",
       "      <td>United States</td>\n",
       "      <td>South</td>\n",
       "    </tr>\n",
       "    <tr>\n",
       "      <th>3</th>\n",
       "      <td>CA-2016-152156</td>\n",
       "      <td>11-08-2016</td>\n",
       "      <td>11-11-2016</td>\n",
       "      <td>Second Class</td>\n",
       "      <td>CG-12520</td>\n",
       "      <td>FUR-CH-10000454</td>\n",
       "      <td>731.94</td>\n",
       "      <td>3.0</td>\n",
       "      <td>0.0</td>\n",
       "      <td>219.58</td>\n",
       "      <td>Claire Gute</td>\n",
       "      <td>Consumer</td>\n",
       "      <td>United States</td>\n",
       "      <td>Central</td>\n",
       "    </tr>\n",
       "    <tr>\n",
       "      <th>4</th>\n",
       "      <td>CA-2016-138688</td>\n",
       "      <td>06-12-2016</td>\n",
       "      <td>6/16/2016</td>\n",
       "      <td>Second Class</td>\n",
       "      <td>DV-13045</td>\n",
       "      <td>OFF-LA-10000240</td>\n",
       "      <td>14.62</td>\n",
       "      <td>2.0</td>\n",
       "      <td>0.0</td>\n",
       "      <td>6.87</td>\n",
       "      <td>Darrin Van Huff</td>\n",
       "      <td>Corporate</td>\n",
       "      <td>United States</td>\n",
       "      <td>West</td>\n",
       "    </tr>\n",
       "  </tbody>\n",
       "</table>\n",
       "</div>"
      ],
      "text/plain": [
       "         Order ID  Order Date   Ship Date     Ship Mode Customer ID  \\\n",
       "0  CA-2016-152156  11-08-2016  11-11-2016  Second Class    CG-12520   \n",
       "1  CA-2016-152156  11-08-2016  11-11-2016  Second Class    CG-12520   \n",
       "2  CA-2016-152156  11-08-2016  11-11-2016  Second Class    CG-12520   \n",
       "3  CA-2016-152156  11-08-2016  11-11-2016  Second Class    CG-12520   \n",
       "4  CA-2016-138688  06-12-2016   6/16/2016  Second Class    DV-13045   \n",
       "\n",
       "        Product ID   Sales  Quantity  Discount  Profit    Customer Name  \\\n",
       "0  FUR-BO-10001798  261.96       2.0       0.0   41.91      Claire Gute   \n",
       "1  FUR-BO-10001798  261.96       2.0       0.0   41.91      Claire Gute   \n",
       "2  FUR-CH-10000454  731.94       3.0       0.0  219.58      Claire Gute   \n",
       "3  FUR-CH-10000454  731.94       3.0       0.0  219.58      Claire Gute   \n",
       "4  OFF-LA-10000240   14.62       2.0       0.0    6.87  Darrin Van Huff   \n",
       "\n",
       "     Segment        Country   Region  \n",
       "0   Consumer  United States    South  \n",
       "1   Consumer  United States  Central  \n",
       "2   Consumer  United States    South  \n",
       "3   Consumer  United States  Central  \n",
       "4  Corporate  United States     West  "
      ]
     },
     "execution_count": 2,
     "metadata": {},
     "output_type": "execute_result"
    }
   ],
   "source": [
    "import pandas as pd\n",
    "\n",
    "# Load individual datasets\n",
    "customers = pd.read_csv(\"customers.csv\")\n",
    "products = pd.read_csv(\"products.csv\")\n",
    "orders = pd.read_csv(\"orders.csv\", parse_dates=[\"Order Date\"])\n",
    "order_details = pd.read_csv(\"order_details.csv\")\n",
    "\n",
    "# Merge orders with order_details\n",
    "df = pd.merge(orders, order_details, on=\"Order ID\")\n",
    "\n",
    "# Merge with customers to get Customer ID and Segment details\n",
    "df = pd.merge(df, customers, on=\"Customer ID\")\n",
    "\n",
    "# Preview the merged dataset\n",
    "df.head()"
   ]
  },
  {
   "cell_type": "markdown",
   "id": "ad3ad84d",
   "metadata": {},
   "source": [
    "### Step 1.1: Exploratory Data Analysis (EDA)\n",
    "\n",
    "Before building the RFM model, we perform basic Exploratory Data Analysis (EDA) to understand the structure and quality of the dataset.\n",
    "\n",
    "This includes:\n",
    "- Checking for missing values or duplicates\n",
    "- Viewing column types and summary statistics\n",
    "- Plotting distributions to identify skewness or outliers"
   ]
  },
  {
   "cell_type": "code",
   "execution_count": 3,
   "id": "ae69cbd2",
   "metadata": {},
   "outputs": [
    {
     "name": "stdout",
     "output_type": "stream",
     "text": [
      "Dataset shape: (33496, 14)\n"
     ]
    },
    {
     "data": {
      "text/html": [
       "<div>\n",
       "<style scoped>\n",
       "    .dataframe tbody tr th:only-of-type {\n",
       "        vertical-align: middle;\n",
       "    }\n",
       "\n",
       "    .dataframe tbody tr th {\n",
       "        vertical-align: top;\n",
       "    }\n",
       "\n",
       "    .dataframe thead th {\n",
       "        text-align: right;\n",
       "    }\n",
       "</style>\n",
       "<table border=\"1\" class=\"dataframe\">\n",
       "  <thead>\n",
       "    <tr style=\"text-align: right;\">\n",
       "      <th></th>\n",
       "      <th>Order ID</th>\n",
       "      <th>Order Date</th>\n",
       "      <th>Ship Date</th>\n",
       "      <th>Ship Mode</th>\n",
       "      <th>Customer ID</th>\n",
       "      <th>Product ID</th>\n",
       "      <th>Sales</th>\n",
       "      <th>Quantity</th>\n",
       "      <th>Discount</th>\n",
       "      <th>Profit</th>\n",
       "      <th>Customer Name</th>\n",
       "      <th>Segment</th>\n",
       "      <th>Country</th>\n",
       "      <th>Region</th>\n",
       "    </tr>\n",
       "  </thead>\n",
       "  <tbody>\n",
       "    <tr>\n",
       "      <th>0</th>\n",
       "      <td>CA-2016-152156</td>\n",
       "      <td>11-08-2016</td>\n",
       "      <td>11-11-2016</td>\n",
       "      <td>Second Class</td>\n",
       "      <td>CG-12520</td>\n",
       "      <td>FUR-BO-10001798</td>\n",
       "      <td>261.96</td>\n",
       "      <td>2.0</td>\n",
       "      <td>0.0</td>\n",
       "      <td>41.91</td>\n",
       "      <td>Claire Gute</td>\n",
       "      <td>Consumer</td>\n",
       "      <td>United States</td>\n",
       "      <td>South</td>\n",
       "    </tr>\n",
       "    <tr>\n",
       "      <th>1</th>\n",
       "      <td>CA-2016-152156</td>\n",
       "      <td>11-08-2016</td>\n",
       "      <td>11-11-2016</td>\n",
       "      <td>Second Class</td>\n",
       "      <td>CG-12520</td>\n",
       "      <td>FUR-BO-10001798</td>\n",
       "      <td>261.96</td>\n",
       "      <td>2.0</td>\n",
       "      <td>0.0</td>\n",
       "      <td>41.91</td>\n",
       "      <td>Claire Gute</td>\n",
       "      <td>Consumer</td>\n",
       "      <td>United States</td>\n",
       "      <td>Central</td>\n",
       "    </tr>\n",
       "    <tr>\n",
       "      <th>2</th>\n",
       "      <td>CA-2016-152156</td>\n",
       "      <td>11-08-2016</td>\n",
       "      <td>11-11-2016</td>\n",
       "      <td>Second Class</td>\n",
       "      <td>CG-12520</td>\n",
       "      <td>FUR-CH-10000454</td>\n",
       "      <td>731.94</td>\n",
       "      <td>3.0</td>\n",
       "      <td>0.0</td>\n",
       "      <td>219.58</td>\n",
       "      <td>Claire Gute</td>\n",
       "      <td>Consumer</td>\n",
       "      <td>United States</td>\n",
       "      <td>South</td>\n",
       "    </tr>\n",
       "    <tr>\n",
       "      <th>3</th>\n",
       "      <td>CA-2016-152156</td>\n",
       "      <td>11-08-2016</td>\n",
       "      <td>11-11-2016</td>\n",
       "      <td>Second Class</td>\n",
       "      <td>CG-12520</td>\n",
       "      <td>FUR-CH-10000454</td>\n",
       "      <td>731.94</td>\n",
       "      <td>3.0</td>\n",
       "      <td>0.0</td>\n",
       "      <td>219.58</td>\n",
       "      <td>Claire Gute</td>\n",
       "      <td>Consumer</td>\n",
       "      <td>United States</td>\n",
       "      <td>Central</td>\n",
       "    </tr>\n",
       "    <tr>\n",
       "      <th>4</th>\n",
       "      <td>CA-2016-138688</td>\n",
       "      <td>06-12-2016</td>\n",
       "      <td>6/16/2016</td>\n",
       "      <td>Second Class</td>\n",
       "      <td>DV-13045</td>\n",
       "      <td>OFF-LA-10000240</td>\n",
       "      <td>14.62</td>\n",
       "      <td>2.0</td>\n",
       "      <td>0.0</td>\n",
       "      <td>6.87</td>\n",
       "      <td>Darrin Van Huff</td>\n",
       "      <td>Corporate</td>\n",
       "      <td>United States</td>\n",
       "      <td>West</td>\n",
       "    </tr>\n",
       "  </tbody>\n",
       "</table>\n",
       "</div>"
      ],
      "text/plain": [
       "         Order ID  Order Date   Ship Date     Ship Mode Customer ID  \\\n",
       "0  CA-2016-152156  11-08-2016  11-11-2016  Second Class    CG-12520   \n",
       "1  CA-2016-152156  11-08-2016  11-11-2016  Second Class    CG-12520   \n",
       "2  CA-2016-152156  11-08-2016  11-11-2016  Second Class    CG-12520   \n",
       "3  CA-2016-152156  11-08-2016  11-11-2016  Second Class    CG-12520   \n",
       "4  CA-2016-138688  06-12-2016   6/16/2016  Second Class    DV-13045   \n",
       "\n",
       "        Product ID   Sales  Quantity  Discount  Profit    Customer Name  \\\n",
       "0  FUR-BO-10001798  261.96       2.0       0.0   41.91      Claire Gute   \n",
       "1  FUR-BO-10001798  261.96       2.0       0.0   41.91      Claire Gute   \n",
       "2  FUR-CH-10000454  731.94       3.0       0.0  219.58      Claire Gute   \n",
       "3  FUR-CH-10000454  731.94       3.0       0.0  219.58      Claire Gute   \n",
       "4  OFF-LA-10000240   14.62       2.0       0.0    6.87  Darrin Van Huff   \n",
       "\n",
       "     Segment        Country   Region  \n",
       "0   Consumer  United States    South  \n",
       "1   Consumer  United States  Central  \n",
       "2   Consumer  United States    South  \n",
       "3   Consumer  United States  Central  \n",
       "4  Corporate  United States     West  "
      ]
     },
     "execution_count": 3,
     "metadata": {},
     "output_type": "execute_result"
    }
   ],
   "source": [
    "# Check shape and preview data\n",
    "print(\"Dataset shape:\", df.shape)\n",
    "df.head()"
   ]
  },
  {
   "cell_type": "code",
   "execution_count": 4,
   "id": "d38fd458",
   "metadata": {
    "scrolled": true
   },
   "outputs": [
    {
     "name": "stdout",
     "output_type": "stream",
     "text": [
      "<class 'pandas.core.frame.DataFrame'>\n",
      "RangeIndex: 33496 entries, 0 to 33495\n",
      "Data columns (total 14 columns):\n",
      " #   Column         Non-Null Count  Dtype  \n",
      "---  ------         --------------  -----  \n",
      " 0   Order ID       33496 non-null  object \n",
      " 1   Order Date     33496 non-null  object \n",
      " 2   Ship Date      33496 non-null  object \n",
      " 3   Ship Mode      33496 non-null  object \n",
      " 4   Customer ID    33496 non-null  object \n",
      " 5   Product ID     33496 non-null  object \n",
      " 6   Sales          33496 non-null  float64\n",
      " 7   Quantity       33496 non-null  float64\n",
      " 8   Discount       33496 non-null  float64\n",
      " 9   Profit         33496 non-null  float64\n",
      " 10  Customer Name  33496 non-null  object \n",
      " 11  Segment        33496 non-null  object \n",
      " 12  Country        33496 non-null  object \n",
      " 13  Region         33496 non-null  object \n",
      "dtypes: float64(4), object(10)\n",
      "memory usage: 3.6+ MB\n"
     ]
    }
   ],
   "source": [
    "# Check data types\n",
    "df.info()"
   ]
  },
  {
   "cell_type": "code",
   "execution_count": 5,
   "id": "7139bf01",
   "metadata": {},
   "outputs": [
    {
     "data": {
      "text/plain": [
       "Order ID         0\n",
       "Order Date       0\n",
       "Ship Date        0\n",
       "Ship Mode        0\n",
       "Customer ID      0\n",
       "Product ID       0\n",
       "Sales            0\n",
       "Quantity         0\n",
       "Discount         0\n",
       "Profit           0\n",
       "Customer Name    0\n",
       "Segment          0\n",
       "Country          0\n",
       "Region           0\n",
       "dtype: int64"
      ]
     },
     "execution_count": 5,
     "metadata": {},
     "output_type": "execute_result"
    }
   ],
   "source": [
    "# Check null values\n",
    "df.isnull().sum()"
   ]
  },
  {
   "cell_type": "code",
   "execution_count": 6,
   "id": "5507447c",
   "metadata": {},
   "outputs": [
    {
     "name": "stdout",
     "output_type": "stream",
     "text": [
      "\n",
      "Duplicate rows: 0\n"
     ]
    }
   ],
   "source": [
    "# Check for duplicate records\n",
    "print(\"\\nDuplicate rows:\", df.duplicated().sum())"
   ]
  },
  {
   "cell_type": "code",
   "execution_count": 7,
   "id": "6910c0d3",
   "metadata": {
    "scrolled": true
   },
   "outputs": [
    {
     "data": {
      "text/html": [
       "<div>\n",
       "<style scoped>\n",
       "    .dataframe tbody tr th:only-of-type {\n",
       "        vertical-align: middle;\n",
       "    }\n",
       "\n",
       "    .dataframe tbody tr th {\n",
       "        vertical-align: top;\n",
       "    }\n",
       "\n",
       "    .dataframe thead th {\n",
       "        text-align: right;\n",
       "    }\n",
       "</style>\n",
       "<table border=\"1\" class=\"dataframe\">\n",
       "  <thead>\n",
       "    <tr style=\"text-align: right;\">\n",
       "      <th></th>\n",
       "      <th>Sales</th>\n",
       "      <th>Quantity</th>\n",
       "      <th>Discount</th>\n",
       "      <th>Profit</th>\n",
       "    </tr>\n",
       "  </thead>\n",
       "  <tbody>\n",
       "    <tr>\n",
       "      <th>count</th>\n",
       "      <td>33496.000000</td>\n",
       "      <td>33496.000000</td>\n",
       "      <td>33496.000000</td>\n",
       "      <td>33496.000000</td>\n",
       "    </tr>\n",
       "    <tr>\n",
       "      <th>mean</th>\n",
       "      <td>231.485955</td>\n",
       "      <td>3.794692</td>\n",
       "      <td>0.158013</td>\n",
       "      <td>29.083233</td>\n",
       "    </tr>\n",
       "    <tr>\n",
       "      <th>std</th>\n",
       "      <td>639.227281</td>\n",
       "      <td>2.230561</td>\n",
       "      <td>0.208287</td>\n",
       "      <td>240.065893</td>\n",
       "    </tr>\n",
       "    <tr>\n",
       "      <th>min</th>\n",
       "      <td>0.440000</td>\n",
       "      <td>1.000000</td>\n",
       "      <td>0.000000</td>\n",
       "      <td>-6599.980000</td>\n",
       "    </tr>\n",
       "    <tr>\n",
       "      <th>25%</th>\n",
       "      <td>17.180000</td>\n",
       "      <td>2.000000</td>\n",
       "      <td>0.000000</td>\n",
       "      <td>1.680000</td>\n",
       "    </tr>\n",
       "    <tr>\n",
       "      <th>50%</th>\n",
       "      <td>54.340000</td>\n",
       "      <td>3.000000</td>\n",
       "      <td>0.200000</td>\n",
       "      <td>8.530000</td>\n",
       "    </tr>\n",
       "    <tr>\n",
       "      <th>75%</th>\n",
       "      <td>209.970000</td>\n",
       "      <td>5.000000</td>\n",
       "      <td>0.200000</td>\n",
       "      <td>29.360000</td>\n",
       "    </tr>\n",
       "    <tr>\n",
       "      <th>max</th>\n",
       "      <td>22638.480000</td>\n",
       "      <td>14.000000</td>\n",
       "      <td>0.800000</td>\n",
       "      <td>8399.980000</td>\n",
       "    </tr>\n",
       "  </tbody>\n",
       "</table>\n",
       "</div>"
      ],
      "text/plain": [
       "              Sales      Quantity      Discount        Profit\n",
       "count  33496.000000  33496.000000  33496.000000  33496.000000\n",
       "mean     231.485955      3.794692      0.158013     29.083233\n",
       "std      639.227281      2.230561      0.208287    240.065893\n",
       "min        0.440000      1.000000      0.000000  -6599.980000\n",
       "25%       17.180000      2.000000      0.000000      1.680000\n",
       "50%       54.340000      3.000000      0.200000      8.530000\n",
       "75%      209.970000      5.000000      0.200000     29.360000\n",
       "max    22638.480000     14.000000      0.800000   8399.980000"
      ]
     },
     "execution_count": 7,
     "metadata": {},
     "output_type": "execute_result"
    }
   ],
   "source": [
    "# Summary statistics\n",
    "df.describe()"
   ]
  },
  {
   "cell_type": "code",
   "execution_count": null,
   "id": "8871060d",
   "metadata": {},
   "outputs": [],
   "source": []
  },
  {
   "cell_type": "code",
   "execution_count": 8,
   "id": "4a114f48",
   "metadata": {},
   "outputs": [
    {
     "data": {
      "image/png": "[encoded data removed]",
      "text/plain": [
       "<Figure size 432x288 with 1 Axes>"
      ]
     },
     "metadata": {
      "needs_background": "light"
     },
     "output_type": "display_data"
    }
   ],
   "source": [
    "# Distribution of Sales\n",
    "plt.figure(figsize=(6, 4))\n",
    "plt.hist(df[\"Sales\"], bins=30, color='skyblue', edgecolor='black')\n",
    "plt.title(\"Sales Distribution\")\n",
    "plt.xlabel(\"Sales\")\n",
    "plt.ylabel(\"Frequency\")\n",
    "plt.grid(True)\n",
    "plt.show()"
   ]
  },
  {
   "cell_type": "code",
   "execution_count": 9,
   "id": "8c7e16d9",
   "metadata": {},
   "outputs": [
    {
     "data": {
      "image/png": "[encoded data removed]",
      "text/plain": [
       "<Figure size 432x288 with 1 Axes>"
      ]
     },
     "metadata": {
      "needs_background": "light"
     },
     "output_type": "display_data"
    }
   ],
   "source": [
    "# Boxplot for Profit to identify outliers\n",
    "plt.figure(figsize=(6, 4))\n",
    "sns.boxplot(x=df[\"Profit\"])\n",
    "plt.title(\"Profit Distribution with Outliers\")\n",
    "plt.xlabel(\"Profit\")\n",
    "plt.grid(True)\n",
    "plt.show()"
   ]
  },
  {
   "cell_type": "markdown",
   "id": "4da3d32c",
   "metadata": {},
   "source": [
    "#### Interpretation of Sales and Profit Distributions\n",
    "\n",
    "- **Sales Distribution**: The histogram is right-skewed, with most transactions having low sales values. A small number of transactions contribute to very high sales, suggesting the presence of high-value orders that may influence average metrics.\n",
    "\n",
    "\n",
    "- **Profit Distribution**: The boxplot shows a high number of outliers on both sides. While many transactions have moderate profits, there are significant losses and extreme positive profits. This implies that some products or customers may be consistently unprofitable.\n",
    "\n",
    "These patterns support the importance of segmentation, understanding who the most profitable and at-risk customers are, rather than relying on averages."
   ]
  },
  {
   "cell_type": "code",
   "execution_count": null,
   "id": "274c1728",
   "metadata": {},
   "outputs": [],
   "source": []
  },
  {
   "cell_type": "markdown",
   "id": "748cb842",
   "metadata": {},
   "source": [
    "### EDA Summary\n",
    "\n",
    "The exploratory data analysis provided key insights into the structure and behaviour of the dataset:\n",
    "\n",
    "- **No missing or duplicate values** were found in the merged dataset.\n",
    "- **Sales values** are right-skewed, indicating that a small number of orders contribute to most of the revenue.\n",
    "- **Profit data** contains significant outliers, including some extreme losses, highlighting the need for deeper profitability analysis.\n",
    "\n",
    "This EDA reinforces the value of performing RFM analysis and clustering to identify customer groups and tailor business strategies.\n"
   ]
  },
  {
   "cell_type": "code",
   "execution_count": null,
   "id": "d752788f",
   "metadata": {},
   "outputs": [],
   "source": []
  },
  {
   "cell_type": "markdown",
   "id": "9201aba4",
   "metadata": {},
   "source": [
    "### Step 2: Calculate RFM Metrics\n",
    "\n",
    "RFM (Recency, Frequency, Monetary) analysis helps understand customer behaviour:\n",
    "- **Recency**: Days since the last purchase\n",
    "- **Frequency**: Total number of purchases\n",
    "- **Monetary**: Total amount spent\n",
    "\n",
    "We'll group by Customer ID and calculate each metric."
   ]
  },
  {
   "cell_type": "code",
   "execution_count": 10,
   "id": "ccb83603",
   "metadata": {
    "scrolled": true
   },
   "outputs": [
    {
     "data": {
      "text/html": [
       "<div>\n",
       "<style scoped>\n",
       "    .dataframe tbody tr th:only-of-type {\n",
       "        vertical-align: middle;\n",
       "    }\n",
       "\n",
       "    .dataframe tbody tr th {\n",
       "        vertical-align: top;\n",
       "    }\n",
       "\n",
       "    .dataframe thead th {\n",
       "        text-align: right;\n",
       "    }\n",
       "</style>\n",
       "<table border=\"1\" class=\"dataframe\">\n",
       "  <thead>\n",
       "    <tr style=\"text-align: right;\">\n",
       "      <th></th>\n",
       "      <th>Customer ID</th>\n",
       "      <th>Recency</th>\n",
       "      <th>Frequency</th>\n",
       "      <th>Monetary</th>\n",
       "    </tr>\n",
       "  </thead>\n",
       "  <tbody>\n",
       "    <tr>\n",
       "      <th>0</th>\n",
       "      <td>AA-10315</td>\n",
       "      <td>185</td>\n",
       "      <td>5</td>\n",
       "      <td>16690.68</td>\n",
       "    </tr>\n",
       "    <tr>\n",
       "      <th>1</th>\n",
       "      <td>AA-10375</td>\n",
       "      <td>49</td>\n",
       "      <td>9</td>\n",
       "      <td>4225.56</td>\n",
       "    </tr>\n",
       "    <tr>\n",
       "      <th>2</th>\n",
       "      <td>AA-10480</td>\n",
       "      <td>260</td>\n",
       "      <td>4</td>\n",
       "      <td>5371.53</td>\n",
       "    </tr>\n",
       "    <tr>\n",
       "      <th>3</th>\n",
       "      <td>AA-10645</td>\n",
       "      <td>234</td>\n",
       "      <td>6</td>\n",
       "      <td>20347.76</td>\n",
       "    </tr>\n",
       "    <tr>\n",
       "      <th>4</th>\n",
       "      <td>AB-10015</td>\n",
       "      <td>446</td>\n",
       "      <td>3</td>\n",
       "      <td>1772.30</td>\n",
       "    </tr>\n",
       "  </tbody>\n",
       "</table>\n",
       "</div>"
      ],
      "text/plain": [
       "  Customer ID  Recency  Frequency  Monetary\n",
       "0    AA-10315      185          5  16690.68\n",
       "1    AA-10375       49          9   4225.56\n",
       "2    AA-10480      260          4   5371.53\n",
       "3    AA-10645      234          6  20347.76\n",
       "4    AB-10015      446          3   1772.30"
      ]
     },
     "execution_count": 10,
     "metadata": {},
     "output_type": "execute_result"
    }
   ],
   "source": [
    "# Make sure 'Order Date' is in date format\n",
    "df[\"Order Date\"] = pd.to_datetime(df[\"Order Date\"], format='mixed', dayfirst=True, errors='coerce')\n",
    "\n",
    "# Set a fixed date for our analysis (one day after last purchase)\n",
    "fixed_date = df[\"Order Date\"].max() + pd.Timedelta(days=1)\n",
    "\n",
    "# Create a new RFM table grouped by Customer ID\n",
    "rfm = df.groupby(\"Customer ID\").agg(\n",
    "    Recency=(\"Order Date\", lambda x: (fixed_date - x.max()).days),\n",
    "    Frequency=(\"Order ID\", \"nunique\"),\n",
    "    Monetary=(\"Sales\", \"sum\")\n",
    ").reset_index()\n",
    "\n",
    "# Show the first 5 rows\n",
    "rfm.head()"
   ]
  },
  {
   "cell_type": "markdown",
   "id": "e1e27bed",
   "metadata": {},
   "source": [
    "### Explore Correlation Between RFM Features\n",
    "\n",
    "Before applying clustering, we analyse the relationship between Recency, Frequency, and Monetary values using a correlation heatmap.\n",
    "\n",
    "This helps us understand:\n",
    "- Which features are positively or negatively related\n",
    "- Whether any features might be redundant\n",
    "- How customer behaviour dimensions interact\n",
    "\n",
    "This visual also supports better interpretation of cluster characteristics later in the analysis."
   ]
  },
  {
   "cell_type": "code",
   "execution_count": 11,
   "id": "7224f75f",
   "metadata": {},
   "outputs": [
    {
     "data": {
      "image/png": "[encoded data removed]",
      "text/plain": [
       "<Figure size 432x288 with 2 Axes>"
      ]
     },
     "metadata": {
      "needs_background": "light"
     },
     "output_type": "display_data"
    }
   ],
   "source": [
    "# Calculate correlation matrix for RFM features\n",
    "rfm_corr = rfm[[\"Recency\", \"Frequency\", \"Monetary\"]].corr()\n",
    "\n",
    "# Plot the heatmap\n",
    "plt.figure(figsize=(6, 4))\n",
    "sns.heatmap(rfm_corr, annot=True, cmap=\"YlGnBu\", fmt=\".2f\")\n",
    "plt.title(\"Correlation Heatmap of RFM Features\")\n",
    "plt.show()"
   ]
  },
  {
   "cell_type": "markdown",
   "id": "6d617ef6",
   "metadata": {},
   "source": [
    "#### Interpretation of the Correlation Heatmap\n",
    "\n",
    "From the correlation heatmap:\n",
    "\n",
    "- **Frequency and Monetary** have a moderate positive correlation (0.47), which suggests that customers who purchase more frequently tend to spend more, though it's not a perfect relationship.\n",
    "- **Recency** shows a **negative correlation** with both Frequency (-0.39) and Monetary (-0.15). This is expected, since customers who purchased more recently (low Recency values) are often more active and valuable.\n",
    "- The low-to-moderate strength of these correlations confirms that all three RFM variables capture **distinct dimensions** of customer behaviour.\n",
    "\n",
    "This justifies including all three features in the clustering model, as they are not redundant and each contributes unique information.\n"
   ]
  },
  {
   "cell_type": "code",
   "execution_count": null,
   "id": "94a041ac",
   "metadata": {},
   "outputs": [],
   "source": []
  },
  {
   "cell_type": "markdown",
   "id": "446f9c47",
   "metadata": {},
   "source": [
    "### Step 3: Normalize RFM Values and Apply K-Means Clustering\n",
    "\n",
    "RFM features have different ranges. To apply clustering, we first scale them using StandardScaler so that each value contributes equally.\n",
    "\n",
    "Then we use K-Means to segment customers into groups with similar buying behavior."
   ]
  },
  {
   "cell_type": "code",
   "execution_count": 12,
   "id": "e0050d77",
   "metadata": {},
   "outputs": [
    {
     "data": {
      "image/png": "[encoded data removed]",
      "text/plain": [
       "<Figure size 432x288 with 1 Axes>"
      ]
     },
     "metadata": {
      "needs_background": "light"
     },
     "output_type": "display_data"
    }
   ],
   "source": [
    "# Extract RFM values only\n",
    "rfm_values = rfm[[\"Recency\", \"Frequency\", \"Monetary\"]]\n",
    "\n",
    "# Scale the data\n",
    "scaler = StandardScaler()\n",
    "rfm_scaled = scaler.fit_transform(rfm_values)\n",
    "\n",
    "# Use the Elbow method to find the best number of clusters\n",
    "inertia = []\n",
    "for k in range(1, 11):\n",
    "    model = KMeans(n_clusters=k, random_state=42)\n",
    "    model.fit(rfm_scaled)\n",
    "    inertia.append(model.inertia_)\n",
    "\n",
    "# Plot the elbow curve\n",
    "plt.plot(range(1, 11), inertia, marker='o')\n",
    "plt.xlabel(\"Number of Clusters (k)\")\n",
    "plt.ylabel(\"Inertia (Distortion)\")\n",
    "plt.title(\"Elbow Method to Find Optimal k\")\n",
    "plt.grid(True)\n",
    "plt.show()"
   ]
  },
  {
   "cell_type": "code",
   "execution_count": null,
   "id": "6930c314",
   "metadata": {},
   "outputs": [],
   "source": []
  },
  {
   "cell_type": "markdown",
   "id": "a5785b56",
   "metadata": {},
   "source": [
    "### Step 4: Fit K-Means Model and Assign Segments\n",
    "\n",
    "We apply K-Means clustering to group customers based on their Recency, Frequency, and Monetary values. Each customer will be assigned to a segment (cluster)."
   ]
  },
  {
   "cell_type": "code",
   "execution_count": 13,
   "id": "e1183f69",
   "metadata": {},
   "outputs": [
    {
     "data": {
      "text/html": [
       "<div>\n",
       "<style scoped>\n",
       "    .dataframe tbody tr th:only-of-type {\n",
       "        vertical-align: middle;\n",
       "    }\n",
       "\n",
       "    .dataframe tbody tr th {\n",
       "        vertical-align: top;\n",
       "    }\n",
       "\n",
       "    .dataframe thead th {\n",
       "        text-align: right;\n",
       "    }\n",
       "</style>\n",
       "<table border=\"1\" class=\"dataframe\">\n",
       "  <thead>\n",
       "    <tr style=\"text-align: right;\">\n",
       "      <th></th>\n",
       "      <th>Customer ID</th>\n",
       "      <th>Recency</th>\n",
       "      <th>Frequency</th>\n",
       "      <th>Monetary</th>\n",
       "      <th>Cluster</th>\n",
       "    </tr>\n",
       "  </thead>\n",
       "  <tbody>\n",
       "    <tr>\n",
       "      <th>0</th>\n",
       "      <td>AA-10315</td>\n",
       "      <td>185</td>\n",
       "      <td>5</td>\n",
       "      <td>16690.68</td>\n",
       "      <td>2</td>\n",
       "    </tr>\n",
       "    <tr>\n",
       "      <th>1</th>\n",
       "      <td>AA-10375</td>\n",
       "      <td>49</td>\n",
       "      <td>9</td>\n",
       "      <td>4225.56</td>\n",
       "      <td>1</td>\n",
       "    </tr>\n",
       "    <tr>\n",
       "      <th>2</th>\n",
       "      <td>AA-10480</td>\n",
       "      <td>260</td>\n",
       "      <td>4</td>\n",
       "      <td>5371.53</td>\n",
       "      <td>2</td>\n",
       "    </tr>\n",
       "    <tr>\n",
       "      <th>3</th>\n",
       "      <td>AA-10645</td>\n",
       "      <td>234</td>\n",
       "      <td>6</td>\n",
       "      <td>20347.76</td>\n",
       "      <td>1</td>\n",
       "    </tr>\n",
       "    <tr>\n",
       "      <th>4</th>\n",
       "      <td>AB-10015</td>\n",
       "      <td>446</td>\n",
       "      <td>3</td>\n",
       "      <td>1772.30</td>\n",
       "      <td>0</td>\n",
       "    </tr>\n",
       "  </tbody>\n",
       "</table>\n",
       "</div>"
      ],
      "text/plain": [
       "  Customer ID  Recency  Frequency  Monetary  Cluster\n",
       "0    AA-10315      185          5  16690.68        2\n",
       "1    AA-10375       49          9   4225.56        1\n",
       "2    AA-10480      260          4   5371.53        2\n",
       "3    AA-10645      234          6  20347.76        1\n",
       "4    AB-10015      446          3   1772.30        0"
      ]
     },
     "execution_count": 13,
     "metadata": {},
     "output_type": "execute_result"
    }
   ],
   "source": [
    "# Step 1: Import and fit K-Means with your chosen k (e.g., 4)\n",
    "kmeans = KMeans(n_clusters=4, random_state=42)\n",
    "kmeans.fit(rfm_scaled)\n",
    "\n",
    "# Step 2: Add the cluster labels to the original RFM table\n",
    "rfm[\"Cluster\"] = kmeans.labels_\n",
    "\n",
    "# Step 3: View the updated table\n",
    "rfm.head()"
   ]
  },
  {
   "cell_type": "code",
   "execution_count": 14,
   "id": "5488bafc",
   "metadata": {},
   "outputs": [
    {
     "data": {
      "text/plain": [
       "Cluster\n",
       "0     92\n",
       "1    302\n",
       "2    327\n",
       "3     72\n",
       "Name: count, dtype: int64"
      ]
     },
     "execution_count": 14,
     "metadata": {},
     "output_type": "execute_result"
    }
   ],
   "source": [
    "# Preview cluster sizes\n",
    "rfm[\"Cluster\"].value_counts().sort_index()"
   ]
  },
  {
   "cell_type": "markdown",
   "id": "73ab6778",
   "metadata": {},
   "source": [
    "### Step 5: Visualise and Interpret Customer Segments\n",
    "\n",
    "We'll now plot the clusters using 2D scatter plots to understand the characteristics of each group. This helps us give business-friendly labels like:\n",
    "- Loyal Customers\n",
    "- New Customers\n",
    "- At-Risk\n",
    "- High Value"
   ]
  },
  {
   "cell_type": "code",
   "execution_count": 15,
   "id": "1cc71d46",
   "metadata": {},
   "outputs": [
    {
     "data": {
      "image/png": "[encoded data removed]",
      "text/plain": [
       "<Figure size 576x432 with 1 Axes>"
      ]
     },
     "metadata": {
      "needs_background": "light"
     },
     "output_type": "display_data"
    }
   ],
   "source": [
    "# Plot Recency vs Frequency\n",
    "plt.figure(figsize=(8, 6))\n",
    "sns.scatterplot(data=rfm, x=\"Recency\", y=\"Frequency\", hue=\"Cluster\", palette=\"Set2\", s=100)\n",
    "plt.title(\"Customer Segments: Recency vs Frequency\")\n",
    "plt.xlabel(\"Recency (days)\")\n",
    "plt.ylabel(\"Frequency (orders)\")\n",
    "plt.grid(True)\n",
    "plt.show()"
   ]
  },
  {
   "cell_type": "code",
   "execution_count": 16,
   "id": "fd9ec57d",
   "metadata": {},
   "outputs": [
    {
     "data": {
      "image/png": "[encoded data removed]",
      "text/plain": [
       "<Figure size 576x432 with 1 Axes>"
      ]
     },
     "metadata": {
      "needs_background": "light"
     },
     "output_type": "display_data"
    }
   ],
   "source": [
    "# Plot Monetary vs Frequency\n",
    "plt.figure(figsize=(8, 6))\n",
    "sns.scatterplot(data=rfm, x=\"Frequency\", y=\"Monetary\", hue=\"Cluster\", palette=\"Set2\", s=100)\n",
    "plt.title(\"Customer Segments: Frequency vs Monetary\")\n",
    "plt.xlabel(\"Frequency (orders)\")\n",
    "plt.ylabel(\"Monetary (total spent)\")\n",
    "plt.grid(True)\n",
    "plt.show()"
   ]
  },
  {
   "cell_type": "markdown",
   "id": "daa37ad7",
   "metadata": {},
   "source": [
    "### How do we know which cluster is which?\n",
    "- We don’t know the labels automatically. KMeans just gives us cluster numbers (0, 1, 2, etc.) based on math, not meaning.\n",
    "- That’s why we need to manually interpret what each cluster represents based on their average RFM values."
   ]
  },
  {
   "cell_type": "code",
   "execution_count": 17,
   "id": "c10bd4e3",
   "metadata": {
    "scrolled": true
   },
   "outputs": [
    {
     "data": {
      "text/html": [
       "<div>\n",
       "<style scoped>\n",
       "    .dataframe tbody tr th:only-of-type {\n",
       "        vertical-align: middle;\n",
       "    }\n",
       "\n",
       "    .dataframe tbody tr th {\n",
       "        vertical-align: top;\n",
       "    }\n",
       "\n",
       "    .dataframe thead th {\n",
       "        text-align: right;\n",
       "    }\n",
       "</style>\n",
       "<table border=\"1\" class=\"dataframe\">\n",
       "  <thead>\n",
       "    <tr style=\"text-align: right;\">\n",
       "      <th></th>\n",
       "      <th>Recency</th>\n",
       "      <th>Frequency</th>\n",
       "      <th>Monetary</th>\n",
       "    </tr>\n",
       "    <tr>\n",
       "      <th>Cluster</th>\n",
       "      <th></th>\n",
       "      <th></th>\n",
       "      <th></th>\n",
       "    </tr>\n",
       "  </thead>\n",
       "  <tbody>\n",
       "    <tr>\n",
       "      <th>0</th>\n",
       "      <td>585.5</td>\n",
       "      <td>3.8</td>\n",
       "      <td>5136.3</td>\n",
       "    </tr>\n",
       "    <tr>\n",
       "      <th>1</th>\n",
       "      <td>86.2</td>\n",
       "      <td>8.4</td>\n",
       "      <td>10918.2</td>\n",
       "    </tr>\n",
       "    <tr>\n",
       "      <th>2</th>\n",
       "      <td>129.4</td>\n",
       "      <td>4.6</td>\n",
       "      <td>4913.2</td>\n",
       "    </tr>\n",
       "    <tr>\n",
       "      <th>3</th>\n",
       "      <td>113.4</td>\n",
       "      <td>8.8</td>\n",
       "      <td>33019.7</td>\n",
       "    </tr>\n",
       "  </tbody>\n",
       "</table>\n",
       "</div>"
      ],
      "text/plain": [
       "         Recency  Frequency  Monetary\n",
       "Cluster                              \n",
       "0          585.5        3.8    5136.3\n",
       "1           86.2        8.4   10918.2\n",
       "2          129.4        4.6    4913.2\n",
       "3          113.4        8.8   33019.7"
      ]
     },
     "execution_count": 17,
     "metadata": {},
     "output_type": "execute_result"
    }
   ],
   "source": [
    "# Show average Recency, Frequency, and Monetary by cluster\n",
    "rfm.groupby(\"Cluster\")[[\"Recency\", \"Frequency\", \"Monetary\"]].mean().round(1)"
   ]
  },
  {
   "cell_type": "code",
   "execution_count": null,
   "id": "062110ae",
   "metadata": {},
   "outputs": [],
   "source": []
  },
  {
   "cell_type": "markdown",
   "id": "0b662b22",
   "metadata": {},
   "source": [
    "### Step 6:Label the Customer Segments\n",
    "\n",
    "Now that we've assigned each customer to a cluster using K-Means, we'll interpret the clusters based on their average Recency, Frequency, and Monetary values.\n",
    "\n",
    "Using this analysis:\n",
    "- **Cluster 0** has very high Recency and low Frequency — these are **Lost Customers**\n",
    "- **Cluster 1** shows active behavior with good Frequency and spend — these are **Engaged Customers**\n",
    "- **Cluster 2** has moderate values but high Recency — these are **At Risk**\n",
    "- **Cluster 3** has the highest Frequency and Monetary spend — these are our **High Value Loyalists**\n",
    "\n",
    "We map each cluster number to a meaningful business label to make the results easier to understand and use."
   ]
  },
  {
   "cell_type": "code",
   "execution_count": 18,
   "id": "1cce7885",
   "metadata": {},
   "outputs": [
    {
     "data": {
      "text/html": [
       "<div>\n",
       "<style scoped>\n",
       "    .dataframe tbody tr th:only-of-type {\n",
       "        vertical-align: middle;\n",
       "    }\n",
       "\n",
       "    .dataframe tbody tr th {\n",
       "        vertical-align: top;\n",
       "    }\n",
       "\n",
       "    .dataframe thead th {\n",
       "        text-align: right;\n",
       "    }\n",
       "</style>\n",
       "<table border=\"1\" class=\"dataframe\">\n",
       "  <thead>\n",
       "    <tr style=\"text-align: right;\">\n",
       "      <th></th>\n",
       "      <th>Customer ID</th>\n",
       "      <th>Recency</th>\n",
       "      <th>Frequency</th>\n",
       "      <th>Monetary</th>\n",
       "      <th>Cluster</th>\n",
       "      <th>Segment</th>\n",
       "    </tr>\n",
       "  </thead>\n",
       "  <tbody>\n",
       "    <tr>\n",
       "      <th>0</th>\n",
       "      <td>AA-10315</td>\n",
       "      <td>185</td>\n",
       "      <td>5</td>\n",
       "      <td>16690.68</td>\n",
       "      <td>2</td>\n",
       "      <td>At Risk</td>\n",
       "    </tr>\n",
       "    <tr>\n",
       "      <th>1</th>\n",
       "      <td>AA-10375</td>\n",
       "      <td>49</td>\n",
       "      <td>9</td>\n",
       "      <td>4225.56</td>\n",
       "      <td>1</td>\n",
       "      <td>Engaged Customers</td>\n",
       "    </tr>\n",
       "    <tr>\n",
       "      <th>2</th>\n",
       "      <td>AA-10480</td>\n",
       "      <td>260</td>\n",
       "      <td>4</td>\n",
       "      <td>5371.53</td>\n",
       "      <td>2</td>\n",
       "      <td>At Risk</td>\n",
       "    </tr>\n",
       "    <tr>\n",
       "      <th>3</th>\n",
       "      <td>AA-10645</td>\n",
       "      <td>234</td>\n",
       "      <td>6</td>\n",
       "      <td>20347.76</td>\n",
       "      <td>1</td>\n",
       "      <td>Engaged Customers</td>\n",
       "    </tr>\n",
       "    <tr>\n",
       "      <th>4</th>\n",
       "      <td>AB-10015</td>\n",
       "      <td>446</td>\n",
       "      <td>3</td>\n",
       "      <td>1772.30</td>\n",
       "      <td>0</td>\n",
       "      <td>Lost Customers</td>\n",
       "    </tr>\n",
       "  </tbody>\n",
       "</table>\n",
       "</div>"
      ],
      "text/plain": [
       "  Customer ID  Recency  Frequency  Monetary  Cluster            Segment\n",
       "0    AA-10315      185          5  16690.68        2            At Risk\n",
       "1    AA-10375       49          9   4225.56        1  Engaged Customers\n",
       "2    AA-10480      260          4   5371.53        2            At Risk\n",
       "3    AA-10645      234          6  20347.76        1  Engaged Customers\n",
       "4    AB-10015      446          3   1772.30        0     Lost Customers"
      ]
     },
     "execution_count": 18,
     "metadata": {},
     "output_type": "execute_result"
    }
   ],
   "source": [
    "cluster_labels = {\n",
    "    0: \"Lost Customers\",\n",
    "    1: \"Engaged Customers\",\n",
    "    2: \"At Risk\",\n",
    "    3: \"High Value Loyalists\"\n",
    "}\n",
    "\n",
    "rfm[\"Segment\"] = rfm[\"Cluster\"].map(cluster_labels)\n",
    "\n",
    "# Preview the result\n",
    "rfm[[\"Customer ID\", \"Recency\", \"Frequency\", \"Monetary\", \"Cluster\", \"Segment\"]].head()"
   ]
  },
  {
   "cell_type": "markdown",
   "id": "739fc762",
   "metadata": {},
   "source": [
    "### Final Output: Customer Segments with RFM Scores\n",
    "\n",
    "\n",
    "Each customer is now assigned to:\n",
    "- A **Cluster** number (generated by the K-Means model)\n",
    "- A **Segment** label (translated into meaningful business categories)\n",
    "\n",
    "| Segment               | Description                                          |\n",
    "|-----------------------|------------------------------------------------------|\n",
    "| High Value Loyalists  | Frequent, high-spending, and recently active        |\n",
    "| Engaged Customers     | Fairly active and valuable, good retention potential |\n",
    "| At Risk               | Haven't purchased in a while, moderate value        |\n",
    "| Lost Customers        | Very inactive, low retention potential              |\n",
    "\n",
    "This segmentation helps businesses focus on retention, re-engagement, and loyalty strategies tailored to each group."
   ]
  },
  {
   "cell_type": "code",
   "execution_count": null,
   "id": "803e3b66",
   "metadata": {},
   "outputs": [],
   "source": []
  },
  {
   "cell_type": "markdown",
   "id": "02e9bf22",
   "metadata": {},
   "source": [
    "### Step 7: Export the Final Clustered Data\n",
    "\n",
    "We now export the final RFM dataset, which includes each customer's Recency, Frequency, Monetary values, K-Means Cluster, and Segment label. This file can be used for further analysis or imported into Power BI for visualisation."
   ]
  },
  {
   "cell_type": "code",
   "execution_count": 19,
   "id": "1d724ada",
   "metadata": {},
   "outputs": [],
   "source": [
    "# Save to CSV\n",
    "rfm.to_csv(\"rfm_customer_segments.csv\", index=False)"
   ]
  }
 ],
 "metadata": {
  "kernelspec": {
   "display_name": "Python 3 (ipykernel)",
   "language": "python",
   "name": "python3"
  },
  "language_info": {
   "codemirror_mode": {
    "name": "ipython",
    "version": 3
   },
   "file_extension": ".py",
   "mimetype": "text/x-python",
   "name": "python",
   "nbconvert_exporter": "python",
   "pygments_lexer": "ipython3",
   "version": "3.10.5"
  }
 },
 "nbformat": 4,
 "nbformat_minor": 5
}
